{
 "cells": [
  {
   "cell_type": "code",
   "execution_count": null,
   "id": "5591d60c",
   "metadata": {},
   "outputs": [],
   "source": [
    "import numpy as np\n",
    "import trimesh\n",
    "\n",
    "def cartesian_to_spherical(v):\n",
    "    x, y, z = v\n",
    "    phi = np.arctan2(y, x)\n",
    "    mu = z  # cos(theta)\n",
    "    return [phi, mu]\n",
    "\n",
    "# 生成五角化十二面体（Cardinal polyhedron）\n",
    "pentakis = trimesh.creation.icosphere(subdivisions=0)\n",
    "# pentakis = pentakis.subdivide_to_size(max_edge=0.99)  # 控制面数（细化得到大约60面）\n",
    "\n",
    "# 投影到单位球面\n",
    "vertices = pentakis.vertices\n",
    "vertices /= np.linalg.norm(vertices, axis=1)[:, None]\n",
    "\n",
    "# 提取每个三角形的球面顶点坐标 (phi, mu)\n",
    "result = []\n",
    "for face in pentakis.faces:\n",
    "    verts = [vertices[i] for i in face]\n",
    "    area = np.linalg.norm(np.cross(verts[1] - verts[0], verts[2] - verts[0]))/2\n",
    "    # print(area, np.sqrt(3)/4 * np.linalg.norm(verts[1] - verts[0])**2)\n",
    "    spherical_coords = [cartesian_to_spherical(v) for v in verts]\n",
    "    result.append((spherical_coords,area))\n",
    "\n",
    "\n",
    "print(len(result))\n",
    "# 输出为 C++ static constexpr 形式\n",
    "print(\"static constexpr std::array<S2Cell, 20> s2_cells = {\")\n",
    "for tri,area in result:\n",
    "    print(\"    S2Cell{{ vector2f{{ {:.16f}, {:.16f} }}, vector2f{{ {:.16f}, {:.16f} }}, vector2f{{ {:.16f}, {:.16f} }}, {:.16f} }},\"\n",
    "          .format(tri[0][0], tri[0][1], tri[1][0], tri[1][1], tri[2][0], tri[2][1], area))\n",
    "print(\"};\")\n"
   ]
  }
 ],
 "metadata": {
  "language_info": {
   "name": "python"
  }
 },
 "nbformat": 4,
 "nbformat_minor": 5
}
